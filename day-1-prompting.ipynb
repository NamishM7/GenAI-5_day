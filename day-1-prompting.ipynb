{
 "cells": [
  {
   "cell_type": "markdown",
   "id": "a4a24ff0",
   "metadata": {
    "id": "jkxRSYjzA1oX",
    "papermill": {
     "duration": 0.011902,
     "end_time": "2024-11-21T07:46:32.833532",
     "exception": false,
     "start_time": "2024-11-21T07:46:32.821630",
     "status": "completed"
    },
    "tags": []
   },
   "source": [
    "##### Copyright 2024 Google LLC."
   ]
  },
  {
   "cell_type": "code",
   "execution_count": 1,
   "id": "d70a6b29",
   "metadata": {
    "cellView": "form",
    "execution": {
     "iopub.execute_input": "2024-11-21T07:46:32.858853Z",
     "iopub.status.busy": "2024-11-21T07:46:32.858350Z",
     "iopub.status.idle": "2024-11-21T07:46:32.867042Z",
     "shell.execute_reply": "2024-11-21T07:46:32.865946Z"
    },
    "id": "5u5OZ2ShA3BA",
    "jupyter": {
     "source_hidden": true
    },
    "papermill": {
     "duration": 0.024571,
     "end_time": "2024-11-21T07:46:32.869632",
     "exception": false,
     "start_time": "2024-11-21T07:46:32.845061",
     "status": "completed"
    },
    "tags": []
   },
   "outputs": [],
   "source": [
    "# @title Licensed under the Apache License, Version 2.0 (the \"License\");\n",
    "# you may not use this file except in compliance with the License.\n",
    "# You may obtain a copy of the License at\n",
    "#\n",
    "# https://www.apache.org/licenses/LICENSE-2.0\n",
    "#\n",
    "# Unless required by applicable law or agreed to in writing, software\n",
    "# distributed under the License is distributed on an \"AS IS\" BASIS,\n",
    "# WITHOUT WARRANTIES OR CONDITIONS OF ANY KIND, either express or implied.\n",
    "# See the License for the specific language governing permissions and\n",
    "# limitations under the License."
   ]
  },
  {
   "cell_type": "markdown",
   "id": "d731f253",
   "metadata": {
    "id": "csNPnkuCobmG",
    "papermill": {
     "duration": 0.010342,
     "end_time": "2024-11-21T07:46:32.891120",
     "exception": false,
     "start_time": "2024-11-21T07:46:32.880778",
     "status": "completed"
    },
    "tags": []
   },
   "source": [
    "# Day 1 - Prompting\n",
    "\n",
    "Welcome to the Kaggle 5-day Generative AI course!\n",
    "\n",
    "This notebook will show you how to get started with the Gemini API and walk you through some of the example prompts and techniques that you can also read about in the Prompting whitepaper. You don't need to read the whitepaper to use this notebook, but the papers will give you some theoretical context and background to complement this interactive notebook.\n",
    "\n",
    "\n",
    "## Before you begin\n",
    "\n",
    "In this notebook, you'll start exploring prompts and prompt parameters using the Python SDK and AI Studio. For some inspiration, you might enjoy exploring some apps that have been built using the Gemini family of models. Here are a few that we like, and we think you will too.\n",
    "\n",
    "* [TextFX](https://textfx.withgoogle.com/) is a suite of AI-powered tools for rappers, made in collaboration with Lupe Fiasco,\n",
    "* [SQL Talk](https://sql-talk-r5gdynozbq-uc.a.run.app/) shows how you can talk directly to a database using the Gemini API,\n",
    "* [NotebookLM](https://notebooklm.google/) uses Gemini models to build your own personal AI research assistant.\n",
    "\n",
    "\n",
    "## For help\n",
    "\n",
    "**Common issues are covered in the [FAQ and troubleshooting guide](https://www.kaggle.com/code/markishere/day-0-troubleshooting-and-faqs).**\n",
    "\n",
    "### A note on the Gemini API and Vertex AI\n",
    "\n",
    "In the whitepapers, most of the example code uses the Enterprise [Vertex AI platform](https://cloud.google.com/vertex-ai). In contrast, this notebook, along with the others in this series, will use the [Gemini Developer API](https://ai.google.dev/gemini-api/) and [AI Studio](https://aistudio.google.com/).\n",
    "\n",
    "Both APIs provide access to the Gemini family of models, and the code to interact with the models is very similar. Vertex provides a world-class platform for enterprises, governments and advanced users that need powerful features like data governance, ML ops and deep Google Cloud integration.\n",
    "\n",
    "AI Studio is free to use and only requires a compatible Google account to log in and get started. It is deeply integrated with the Gemini API, which comes with a generous [free tier](https://ai.google.dev/pricing) that you can use to run the code in these exercises.\n",
    "\n",
    "If you are already set up with Google Cloud, you can check out the [Enterprise Gemini API](https://cloud.google.com/vertex-ai/generative-ai/docs/model-reference/inference) through Vertex AI, and run the samples directly from the supplied whitepapers."
   ]
  },
  {
   "cell_type": "markdown",
   "id": "01c393b0",
   "metadata": {
    "id": "f00ea7c99e44",
    "papermill": {
     "duration": 0.010782,
     "end_time": "2024-11-21T07:46:32.913052",
     "exception": false,
     "start_time": "2024-11-21T07:46:32.902270",
     "status": "completed"
    },
    "tags": []
   },
   "source": [
    "## Get started with Kaggle notebooks\n",
    "\n",
    "If this is your first time using a Kaggle notebook, welcome! You can read about how to use Kaggle notebooks [in the docs](https://www.kaggle.com/docs/notebooks).\n",
    "\n",
    "First, you will need to phone verify your account at kaggle.com/settings.\n",
    "\n",
    "![](https://storage.googleapis.com/kaggle-media/Images/5dgai_0.png)"
   ]
  },
  {
   "cell_type": "markdown",
   "id": "e031bcaa",
   "metadata": {
    "papermill": {
     "duration": 0.010119,
     "end_time": "2024-11-21T07:46:32.933680",
     "exception": false,
     "start_time": "2024-11-21T07:46:32.923561",
     "status": "completed"
    },
    "tags": []
   },
   "source": [
    "To run this notebook, as well as the others in this course, you will need to make a copy, or fork, the notebook. Look for the `Copy and Edit` button in the top-right, and **click it** to make an editable, private copy of the notebook. It should look like this one:\n",
    "\n",
    "![Copy and Edit button](https://storage.googleapis.com/kaggle-media/Images/5gdai_sc_1.png)\n",
    "\n",
    "Your copy will now have a ▶️ **Run** button next to each code cell that you can press to execute that cell. These notebooks are expected to be run in order from top-to-bottom, but you are encouraged to add new cells, run your own code and explore. If you get stuck, you can try the `Factory reset` option in the `Run` menu, or head back to the original notebook and make a fresh copy.\n",
    "\n",
    "![Run cell button](https://storage.googleapis.com/kaggle-media/Images/5gdai_sc_2.png)\n",
    "\n",
    "### Problems?\n",
    "\n",
    "If you have any problems, head over to the [Kaggle Discord](https://discord.com/invite/kaggle), find the [`#5dgai-q-and-a` channel](https://discord.com/channels/1101210829807956100/1303438695143178251) and ask for help."
   ]
  },
  {
   "cell_type": "markdown",
   "id": "6bc003cf",
   "metadata": {
    "id": "ExkOXcPxtTb5",
    "papermill": {
     "duration": 0.010052,
     "end_time": "2024-11-21T07:46:32.954353",
     "exception": false,
     "start_time": "2024-11-21T07:46:32.944301",
     "status": "completed"
    },
    "tags": []
   },
   "source": [
    "## Get started with the Gemini API\n",
    "\n",
    "All of the exercises in this notebook will use the [Gemini API](https://ai.google.dev/gemini-api/) by way of the [Python SDK](https://pypi.org/project/google-generativeai/). Each of these prompts can be accessed directly in [Google AI Studio](https://aistudio.google.com/) too, so if you would rather use a web interface and skip the code for this activity, look for the <img src=\"https://ai.google.dev/site-assets/images/marketing/home/icon-ais.png\" style=\"height: 24px\" height=24/> AI Studio link on each prompt."
   ]
  },
  {
   "cell_type": "markdown",
   "id": "72887f1b",
   "metadata": {
    "papermill": {
     "duration": 0.010911,
     "end_time": "2024-11-21T07:46:32.979838",
     "exception": false,
     "start_time": "2024-11-21T07:46:32.968927",
     "status": "completed"
    },
    "tags": []
   },
   "source": [
    "Next, you will need to add your API key to your Kaggle Notebook as a Kaggle User Secret.\n",
    "\n",
    "![](https://storage.googleapis.com/kaggle-media/Images/5dgai_1.png)\n",
    "![](https://storage.googleapis.com/kaggle-media/Images/5dgai_2.png)\n",
    "![](https://storage.googleapis.com/kaggle-media/Images/5dgai_3.png)\n",
    "![](https://storage.googleapis.com/kaggle-media/Images/5dgai_4.png)"
   ]
  },
  {
   "cell_type": "markdown",
   "id": "0e1bb444",
   "metadata": {
    "id": "UAjUV3BsvFXQ",
    "papermill": {
     "duration": 0.010511,
     "end_time": "2024-11-21T07:46:33.000866",
     "exception": false,
     "start_time": "2024-11-21T07:46:32.990355",
     "status": "completed"
    },
    "tags": []
   },
   "source": [
    "### Install the SDK"
   ]
  },
  {
   "cell_type": "code",
   "execution_count": 2,
   "id": "fc707c4d",
   "metadata": {
    "execution": {
     "iopub.execute_input": "2024-11-21T07:46:33.023048Z",
     "iopub.status.busy": "2024-11-21T07:46:33.022716Z",
     "iopub.status.idle": "2024-11-21T07:47:00.895420Z",
     "shell.execute_reply": "2024-11-21T07:47:00.894065Z"
    },
    "id": "NzwzJFU9LqkJ",
    "papermill": {
     "duration": 27.886602,
     "end_time": "2024-11-21T07:47:00.897893",
     "exception": false,
     "start_time": "2024-11-21T07:46:33.011291",
     "status": "completed"
    },
    "tags": []
   },
   "outputs": [
    {
     "name": "stdout",
     "output_type": "stream",
     "text": [
      "Note: you may need to restart the kernel to use updated packages.\n"
     ]
    }
   ],
   "source": [
    "%pip install -U -q \"google-generativeai>=0.8.3\""
   ]
  },
  {
   "cell_type": "markdown",
   "id": "cb6d8224",
   "metadata": {
    "papermill": {
     "duration": 0.010365,
     "end_time": "2024-11-21T07:47:00.919153",
     "exception": false,
     "start_time": "2024-11-21T07:47:00.908788",
     "status": "completed"
    },
    "tags": []
   },
   "source": [
    "You do not need to restart the kernel."
   ]
  },
  {
   "cell_type": "code",
   "execution_count": 3,
   "id": "c43aa371",
   "metadata": {
    "execution": {
     "iopub.execute_input": "2024-11-21T07:47:00.943039Z",
     "iopub.status.busy": "2024-11-21T07:47:00.942049Z",
     "iopub.status.idle": "2024-11-21T07:47:01.997373Z",
     "shell.execute_reply": "2024-11-21T07:47:01.996247Z"
    },
    "id": "5DwxYIRavMST",
    "papermill": {
     "duration": 1.069948,
     "end_time": "2024-11-21T07:47:01.999952",
     "exception": false,
     "start_time": "2024-11-21T07:47:00.930004",
     "status": "completed"
    },
    "tags": []
   },
   "outputs": [],
   "source": [
    "import google.generativeai as genai\n",
    "from IPython.display import HTML, Markdown, display"
   ]
  },
  {
   "cell_type": "markdown",
   "id": "5dd1341c",
   "metadata": {
    "id": "DNEt2BCOvOJ1",
    "papermill": {
     "duration": 0.010158,
     "end_time": "2024-11-21T07:47:02.020973",
     "exception": false,
     "start_time": "2024-11-21T07:47:02.010815",
     "status": "completed"
    },
    "tags": []
   },
   "source": [
    "### Set up your API key\n",
    "\n",
    "To run the following cell, your API key must be stored it in a [Kaggle secret](https://www.kaggle.com/discussions/product-feedback/114053) named `GOOGLE_API_KEY`.\n",
    "\n",
    "If you don't already have an API key, you can grab one from [AI Studio](https://aistudio.google.com/app/apikey). You can find [detailed instructions in the docs](https://ai.google.dev/gemini-api/docs/api-key).\n",
    "\n",
    "To make the key available through Kaggle secrets, choose `Secrets` from the `Add-ons` menu and follow the instructions to add your key or enable it for this notebook."
   ]
  },
  {
   "cell_type": "code",
   "execution_count": 4,
   "id": "108eca77",
   "metadata": {
    "execution": {
     "iopub.execute_input": "2024-11-21T07:47:02.044694Z",
     "iopub.status.busy": "2024-11-21T07:47:02.043462Z",
     "iopub.status.idle": "2024-11-21T07:47:02.194695Z",
     "shell.execute_reply": "2024-11-21T07:47:02.193557Z"
    },
    "id": "SHl0bkPCvayd",
    "papermill": {
     "duration": 0.166407,
     "end_time": "2024-11-21T07:47:02.197829",
     "exception": false,
     "start_time": "2024-11-21T07:47:02.031422",
     "status": "completed"
    },
    "tags": []
   },
   "outputs": [],
   "source": [
    "from kaggle_secrets import UserSecretsClient\n",
    "\n",
    "GOOGLE_API_KEY = UserSecretsClient().get_secret(\"GOOGLE_API_KEY\")\n",
    "genai.configure(api_key=GOOGLE_API_KEY)"
   ]
  },
  {
   "cell_type": "markdown",
   "id": "c0b611c7",
   "metadata": {
    "id": "4e720472fd86",
    "papermill": {
     "duration": 0.011755,
     "end_time": "2024-11-21T07:47:02.228939",
     "exception": false,
     "start_time": "2024-11-21T07:47:02.217184",
     "status": "completed"
    },
    "tags": []
   },
   "source": [
    "If you received an error response along the lines of `No user secrets exist for kernel id ...`, then you need to add your API key via `Add-ons`, `Secrets` **and** enable it.\n",
    "\n",
    "![Screenshot of the checkbox to enable GOOGLE_API_KEY secret](https://storage.googleapis.com/kaggle-media/Images/5gdai_sc_3.png)"
   ]
  },
  {
   "cell_type": "markdown",
   "id": "d04e37c1",
   "metadata": {
    "id": "H_YXCYIKvyZJ",
    "papermill": {
     "duration": 0.010412,
     "end_time": "2024-11-21T07:47:02.250087",
     "exception": false,
     "start_time": "2024-11-21T07:47:02.239675",
     "status": "completed"
    },
    "tags": []
   },
   "source": [
    "### Run your first prompt\n",
    "\n",
    "In this step, you will test that your API key is set up correctly by making a request. The `gemini-1.5-flash` model has been selected here."
   ]
  },
  {
   "cell_type": "code",
   "execution_count": 5,
   "id": "43534f9d",
   "metadata": {
    "execution": {
     "iopub.execute_input": "2024-11-21T07:47:02.274201Z",
     "iopub.status.busy": "2024-11-21T07:47:02.273133Z",
     "iopub.status.idle": "2024-11-21T07:47:04.731608Z",
     "shell.execute_reply": "2024-11-21T07:47:04.730242Z"
    },
    "id": "BV1o0PmcvyJF",
    "papermill": {
     "duration": 2.473159,
     "end_time": "2024-11-21T07:47:04.733946",
     "exception": false,
     "start_time": "2024-11-21T07:47:02.260787",
     "status": "completed"
    },
    "tags": []
   },
   "outputs": [
    {
     "name": "stdout",
     "output_type": "stream",
     "text": [
      "Imagine you have a really smart puppy.  You teach it tricks, like \"sit\" and \"fetch.\"  The more you teach it, the better it gets at those tricks, right?\n",
      "\n",
      "AI is kind of like that smart puppy, but instead of tricks, it learns from information.  We give it lots and lots of information – like pictures of cats and dogs, or sentences in a book – and it learns to recognize patterns.\n",
      "\n",
      "So, if you show the AI a new picture of a cat, even if it's never seen that *exact* cat before, it can say \"That's a cat!\" because it learned what cats look like from all the pictures it saw before.\n",
      "\n",
      "It's not *really* thinking like a person, it's just really good at finding patterns and following instructions based on the information it's been given.  It can do lots of cool things like:\n",
      "\n",
      "* **Play games:**  Think video games where the computer is a really tough opponent!\n",
      "* **Help you search the internet:**  AI helps find what you're looking for quickly.\n",
      "* **Translate languages:**  It can change words from one language to another.\n",
      "* **Draw pictures:**  Some AI can even create amazing art!\n",
      "\n",
      "It's still learning and getting better all the time, just like your puppy!\n",
      "\n"
     ]
    }
   ],
   "source": [
    "flash = genai.GenerativeModel('gemini-1.5-flash')\n",
    "response = flash.generate_content(\"Explain AI to me like I'm a kid.\")\n",
    "print(response.text)"
   ]
  },
  {
   "cell_type": "markdown",
   "id": "b07b4a66",
   "metadata": {
    "id": "f60ed9d8ae41",
    "papermill": {
     "duration": 0.010492,
     "end_time": "2024-11-21T07:47:04.755479",
     "exception": false,
     "start_time": "2024-11-21T07:47:04.744987",
     "status": "completed"
    },
    "tags": []
   },
   "source": [
    "The response often comes back in markdown format, which you can render directly in this notebook."
   ]
  },
  {
   "cell_type": "code",
   "execution_count": 6,
   "id": "ec818c63",
   "metadata": {
    "execution": {
     "iopub.execute_input": "2024-11-21T07:47:04.780344Z",
     "iopub.status.busy": "2024-11-21T07:47:04.779973Z",
     "iopub.status.idle": "2024-11-21T07:47:04.788454Z",
     "shell.execute_reply": "2024-11-21T07:47:04.787286Z"
    },
    "id": "c933e5e460a5",
    "papermill": {
     "duration": 0.02339,
     "end_time": "2024-11-21T07:47:04.790544",
     "exception": false,
     "start_time": "2024-11-21T07:47:04.767154",
     "status": "completed"
    },
    "tags": []
   },
   "outputs": [
    {
     "data": {
      "text/markdown": [
       "Imagine you have a really smart puppy.  You teach it tricks, like \"sit\" and \"fetch.\"  The more you teach it, the better it gets at those tricks, right?\n",
       "\n",
       "AI is kind of like that smart puppy, but instead of tricks, it learns from information.  We give it lots and lots of information – like pictures of cats and dogs, or sentences in a book – and it learns to recognize patterns.\n",
       "\n",
       "So, if you show the AI a new picture of a cat, even if it's never seen that *exact* cat before, it can say \"That's a cat!\" because it learned what cats look like from all the pictures it saw before.\n",
       "\n",
       "It's not *really* thinking like a person, it's just really good at finding patterns and following instructions based on the information it's been given.  It can do lots of cool things like:\n",
       "\n",
       "* **Play games:**  Think video games where the computer is a really tough opponent!\n",
       "* **Help you search the internet:**  AI helps find what you're looking for quickly.\n",
       "* **Translate languages:**  It can change words from one language to another.\n",
       "* **Draw pictures:**  Some AI can even create amazing art!\n",
       "\n",
       "It's still learning and getting better all the time, just like your puppy!\n"
      ],
      "text/plain": [
       "<IPython.core.display.Markdown object>"
      ]
     },
     "execution_count": 6,
     "metadata": {},
     "output_type": "execute_result"
    }
   ],
   "source": [
    "Markdown(response.text)"
   ]
  },
  {
   "cell_type": "markdown",
   "id": "d822936d",
   "metadata": {
    "id": "byx0pT9ZMW2Q",
    "papermill": {
     "duration": 0.010719,
     "end_time": "2024-11-21T07:47:04.812173",
     "exception": false,
     "start_time": "2024-11-21T07:47:04.801454",
     "status": "completed"
    },
    "tags": []
   },
   "source": [
    "### Start a chat\n",
    "\n",
    "The previous example uses a single-turn, text-in/text-out structure, but you can also set up a multi-turn chat structure too."
   ]
  },
  {
   "cell_type": "code",
   "execution_count": 7,
   "id": "f8a7ce86",
   "metadata": {
    "execution": {
     "iopub.execute_input": "2024-11-21T07:47:04.836678Z",
     "iopub.status.busy": "2024-11-21T07:47:04.836229Z",
     "iopub.status.idle": "2024-11-21T07:47:05.348712Z",
     "shell.execute_reply": "2024-11-21T07:47:05.347553Z"
    },
    "id": "lV_S5ZL5MidD",
    "papermill": {
     "duration": 0.527344,
     "end_time": "2024-11-21T07:47:05.351146",
     "exception": false,
     "start_time": "2024-11-21T07:47:04.823802",
     "status": "completed"
    },
    "tags": []
   },
   "outputs": [
    {
     "name": "stdout",
     "output_type": "stream",
     "text": [
      "It's nice to meet you, Zlork!  How can I help you today?\n",
      "\n"
     ]
    }
   ],
   "source": [
    "chat = flash.start_chat(history=[])\n",
    "response = chat.send_message('Hello! My name is Zlork.')\n",
    "print(response.text)"
   ]
  },
  {
   "cell_type": "code",
   "execution_count": 8,
   "id": "c3255865",
   "metadata": {
    "execution": {
     "iopub.execute_input": "2024-11-21T07:47:05.375030Z",
     "iopub.status.busy": "2024-11-21T07:47:05.374650Z",
     "iopub.status.idle": "2024-11-21T07:47:06.308027Z",
     "shell.execute_reply": "2024-11-21T07:47:06.306739Z"
    },
    "id": "7b0372c3c64a",
    "papermill": {
     "duration": 0.947855,
     "end_time": "2024-11-21T07:47:06.310261",
     "exception": false,
     "start_time": "2024-11-21T07:47:05.362406",
     "status": "completed"
    },
    "tags": []
   },
   "outputs": [
    {
     "name": "stdout",
     "output_type": "stream",
     "text": [
      "Many dinosaurs likely had feathers!  While we often picture scaly reptiles, evidence shows that many theropod dinosaurs (the group that includes *Tyrannosaurus rex*, but also smaller, bird-like dinosaurs) had feathers, ranging from simple filaments to complex plumage.  This is strong evidence supporting the theory that birds evolved from dinosaurs.\n",
      "\n"
     ]
    }
   ],
   "source": [
    "response = chat.send_message('Can you tell something interesting about dinosaurs?')\n",
    "print(response.text)"
   ]
  },
  {
   "cell_type": "code",
   "execution_count": 9,
   "id": "c414bfea",
   "metadata": {
    "execution": {
     "iopub.execute_input": "2024-11-21T07:47:06.335157Z",
     "iopub.status.busy": "2024-11-21T07:47:06.334768Z",
     "iopub.status.idle": "2024-11-21T07:47:06.717982Z",
     "shell.execute_reply": "2024-11-21T07:47:06.716767Z"
    },
    "id": "d3f9591392a7",
    "papermill": {
     "duration": 0.398772,
     "end_time": "2024-11-21T07:47:06.720274",
     "exception": false,
     "start_time": "2024-11-21T07:47:06.321502",
     "status": "completed"
    },
    "tags": []
   },
   "outputs": [
    {
     "name": "stdout",
     "output_type": "stream",
     "text": [
      "Yes, your name is Zlork.\n",
      "\n"
     ]
    }
   ],
   "source": [
    "# While you have the `chat` object around, the conversation state\n",
    "# persists. Confirm that by asking if it knows my name.\n",
    "response = chat.send_message('Do you remember what my name is?')\n",
    "print(response.text)"
   ]
  },
  {
   "cell_type": "markdown",
   "id": "3e43b039",
   "metadata": {
    "id": "2KAjpr1200sW",
    "papermill": {
     "duration": 0.010504,
     "end_time": "2024-11-21T07:47:06.741947",
     "exception": false,
     "start_time": "2024-11-21T07:47:06.731443",
     "status": "completed"
    },
    "tags": []
   },
   "source": [
    "### Choose a model\n",
    "\n",
    "The Gemini API provides access to a number of models from the Gemini model family. Read about the available models and their capabilities on the [model overview page](https://ai.google.dev/gemini-api/docs/models/gemini).\n",
    "\n",
    "In this step you'll use the API to list all of the available models."
   ]
  },
  {
   "cell_type": "code",
   "execution_count": 10,
   "id": "0afa693b",
   "metadata": {
    "execution": {
     "iopub.execute_input": "2024-11-21T07:47:06.766249Z",
     "iopub.status.busy": "2024-11-21T07:47:06.765145Z",
     "iopub.status.idle": "2024-11-21T07:47:07.111699Z",
     "shell.execute_reply": "2024-11-21T07:47:07.110274Z"
    },
    "id": "uUUZa2uq2jDm",
    "papermill": {
     "duration": 0.361372,
     "end_time": "2024-11-21T07:47:07.114183",
     "exception": false,
     "start_time": "2024-11-21T07:47:06.752811",
     "status": "completed"
    },
    "tags": []
   },
   "outputs": [
    {
     "name": "stdout",
     "output_type": "stream",
     "text": [
      "models/chat-bison-001\n",
      "models/text-bison-001\n",
      "models/embedding-gecko-001\n",
      "models/gemini-1.0-pro-latest\n",
      "models/gemini-1.0-pro\n",
      "models/gemini-pro\n",
      "models/gemini-1.0-pro-001\n",
      "models/gemini-1.0-pro-vision-latest\n",
      "models/gemini-pro-vision\n",
      "models/gemini-1.5-pro-latest\n",
      "models/gemini-1.5-pro-001\n",
      "models/gemini-1.5-pro-002\n",
      "models/gemini-1.5-pro\n",
      "models/gemini-1.5-pro-exp-0801\n",
      "models/gemini-1.5-pro-exp-0827\n",
      "models/gemini-1.5-flash-latest\n",
      "models/gemini-1.5-flash-001\n",
      "models/gemini-1.5-flash-001-tuning\n",
      "models/gemini-1.5-flash\n",
      "models/gemini-1.5-flash-exp-0827\n",
      "models/gemini-1.5-flash-002\n",
      "models/gemini-1.5-flash-8b\n",
      "models/gemini-1.5-flash-8b-001\n",
      "models/gemini-1.5-flash-8b-latest\n",
      "models/gemini-1.5-flash-8b-exp-0827\n",
      "models/gemini-1.5-flash-8b-exp-0924\n",
      "models/learnlm-1.5-pro-experimental\n",
      "models/gemini-exp-1114\n",
      "models/embedding-001\n",
      "models/text-embedding-004\n",
      "models/aqa\n"
     ]
    }
   ],
   "source": [
    "for model in genai.list_models():\n",
    "  print(model.name)"
   ]
  },
  {
   "cell_type": "markdown",
   "id": "82cca3ff",
   "metadata": {
    "id": "rN49kSI54R1v",
    "papermill": {
     "duration": 0.011011,
     "end_time": "2024-11-21T07:47:07.136617",
     "exception": false,
     "start_time": "2024-11-21T07:47:07.125606",
     "status": "completed"
    },
    "tags": []
   },
   "source": [
    "The [`models.list`](https://ai.google.dev/api/models#method:-models.list) response also returns additional information about the model's capabilities, like the token limits and supported parameters."
   ]
  },
  {
   "cell_type": "code",
   "execution_count": 11,
   "id": "e172e284",
   "metadata": {
    "execution": {
     "iopub.execute_input": "2024-11-21T07:47:07.161713Z",
     "iopub.status.busy": "2024-11-21T07:47:07.161291Z",
     "iopub.status.idle": "2024-11-21T07:47:07.493255Z",
     "shell.execute_reply": "2024-11-21T07:47:07.491930Z"
    },
    "id": "k7JJ1K6j4Rl8",
    "papermill": {
     "duration": 0.346697,
     "end_time": "2024-11-21T07:47:07.495534",
     "exception": false,
     "start_time": "2024-11-21T07:47:07.148837",
     "status": "completed"
    },
    "tags": []
   },
   "outputs": [
    {
     "name": "stdout",
     "output_type": "stream",
     "text": [
      "Model(name='models/gemini-1.5-flash',\n",
      "      base_model_id='',\n",
      "      version='001',\n",
      "      display_name='Gemini 1.5 Flash',\n",
      "      description=('Alias that points to the most recent stable version of Gemini 1.5 Flash, our '\n",
      "                   'fast and versatile multimodal model for scaling across diverse tasks.'),\n",
      "      input_token_limit=1000000,\n",
      "      output_token_limit=8192,\n",
      "      supported_generation_methods=['generateContent', 'countTokens'],\n",
      "      temperature=1.0,\n",
      "      max_temperature=2.0,\n",
      "      top_p=0.95,\n",
      "      top_k=40)\n"
     ]
    }
   ],
   "source": [
    "for model in genai.list_models():\n",
    "  if model.name == 'models/gemini-1.5-flash':\n",
    "    print(model)\n",
    "    break"
   ]
  },
  {
   "cell_type": "markdown",
   "id": "0a3b8274",
   "metadata": {
    "id": "5rU_UBlZdooM",
    "papermill": {
     "duration": 0.011048,
     "end_time": "2024-11-21T07:47:07.518119",
     "exception": false,
     "start_time": "2024-11-21T07:47:07.507071",
     "status": "completed"
    },
    "tags": []
   },
   "source": [
    "## Explore generation parameters\n",
    "\n"
   ]
  },
  {
   "cell_type": "markdown",
   "id": "810046ce",
   "metadata": {
    "id": "G7NfEizeipbW",
    "papermill": {
     "duration": 0.010811,
     "end_time": "2024-11-21T07:47:07.540677",
     "exception": false,
     "start_time": "2024-11-21T07:47:07.529866",
     "status": "completed"
    },
    "tags": []
   },
   "source": [
    "### Output length\n",
    "\n",
    "When generating text with an LLM, the output length affects cost and performance. Generating more tokens increases computation, leading to higher energy consumption, latency, and cost.\n",
    "\n",
    "To stop the model from generating tokens past a limit, you can specify the `max_output_tokens` parameter when using the Gemini API. Specifying this parameter does not influence the generation of the output tokens, so the output will not become more stylistically or textually succinct, but it will stop generating tokens once the specified length is reached. Prompt engineering may be required to generate a more complete output for your given limit."
   ]
  },
  {
   "cell_type": "code",
   "execution_count": 12,
   "id": "75b31e13",
   "metadata": {
    "execution": {
     "iopub.execute_input": "2024-11-21T07:47:07.564840Z",
     "iopub.status.busy": "2024-11-21T07:47:07.564475Z",
     "iopub.status.idle": "2024-11-21T07:47:09.084956Z",
     "shell.execute_reply": "2024-11-21T07:47:09.083702Z"
    },
    "id": "qVf23JsIi9ma",
    "papermill": {
     "duration": 1.535374,
     "end_time": "2024-11-21T07:47:09.087177",
     "exception": false,
     "start_time": "2024-11-21T07:47:07.551803",
     "status": "completed"
    },
    "tags": []
   },
   "outputs": [
    {
     "name": "stdout",
     "output_type": "stream",
     "text": [
      "## The Enduring Significance of Olives in Modern Society\n",
      "\n",
      "The olive, a seemingly simple fruit, holds a position of profound importance in modern society, extending far beyond its culinary applications.  Its significance is woven into the fabric of history, culture, economy, and even health, showcasing a legacy that continues to thrive in the 21st century. From the Mediterranean basin, where it originated, to global markets, the olive’s impact reverberates across diverse spheres of human life.\n",
      "\n",
      "The most immediate and widespread impact of olives lies in their culinary contribution. Olive oil, extracted from the fruit, is a cornerstone of the Mediterranean diet, renowned for its health benefits and its pivotal role in countless cuisines.  Its monounsaturated fatty acids contribute to cardiovascular health, reducing the risk of heart disease and stroke.  The high concentration of antioxidants protects against cell damage and inflammation, contributing to overall well-being.  Beyond its health benefits, olive oil's versatility is undeniable. It serves as a\n"
     ]
    }
   ],
   "source": [
    "short_model = genai.GenerativeModel(\n",
    "    'gemini-1.5-flash',\n",
    "    generation_config=genai.GenerationConfig(max_output_tokens=200))\n",
    "\n",
    "response = short_model.generate_content('Write a 1000 word essay on the importance of olives in modern society.')\n",
    "print(response.text)"
   ]
  },
  {
   "cell_type": "code",
   "execution_count": 13,
   "id": "93438e65",
   "metadata": {
    "execution": {
     "iopub.execute_input": "2024-11-21T07:47:09.111738Z",
     "iopub.status.busy": "2024-11-21T07:47:09.111272Z",
     "iopub.status.idle": "2024-11-21T07:47:10.233793Z",
     "shell.execute_reply": "2024-11-21T07:47:10.232595Z"
    },
    "id": "W-3kR2F5kdMR",
    "papermill": {
     "duration": 1.137442,
     "end_time": "2024-11-21T07:47:10.236071",
     "exception": false,
     "start_time": "2024-11-21T07:47:09.098629",
     "status": "completed"
    },
    "tags": []
   },
   "outputs": [
    {
     "name": "stdout",
     "output_type": "stream",
     "text": [
      "From ancient groves, a bounty small,\n",
      "The olive's grace, it conquers all.\n",
      "In bottles dark, a sun-kissed oil,\n",
      "That spins our plates with savory spoil.\n",
      "\n",
      "On pizzas spread, or bread it crowns,\n",
      "A taste of sun, in bustling towns.\n",
      "In lotions smooth, a skincare boon,\n",
      "The olive thrives, beneath the moon.\n",
      "\n",
      "A symbol old, a modern need,\n",
      "A healthy heart, a cultured creed.\n",
      "So raise a glass, of brine-kissed green,\n",
      "The olive reigns, a vibrant queen.\n",
      "\n"
     ]
    }
   ],
   "source": [
    "response = short_model.generate_content('Write a short poem on the importance of olives in modern society.')\n",
    "print(response.text)"
   ]
  },
  {
   "cell_type": "markdown",
   "id": "a0fa1354",
   "metadata": {
    "id": "3ZhDSLB6lqqB",
    "papermill": {
     "duration": 0.011151,
     "end_time": "2024-11-21T07:47:10.258883",
     "exception": false,
     "start_time": "2024-11-21T07:47:10.247732",
     "status": "completed"
    },
    "tags": []
   },
   "source": [
    "Explore with your own prompts. Try a prompt with a restrictive output limit and then adjust the prompt to work within that limit."
   ]
  },
  {
   "cell_type": "markdown",
   "id": "ac0d34af",
   "metadata": {
    "id": "alx-WaAvir_9",
    "papermill": {
     "duration": 0.011218,
     "end_time": "2024-11-21T07:47:10.281949",
     "exception": false,
     "start_time": "2024-11-21T07:47:10.270731",
     "status": "completed"
    },
    "tags": []
   },
   "source": [
    "### Temperature\n",
    "\n",
    "Temperature controls the degree of randomness in token selection. Higher temperatures result in a higher number of candidate tokens from which the next output token is selected, and can produce more diverse results, while lower temperatures have the opposite effect, such that a temperature of 0 results in greedy decoding, selecting the most probable token at each step.\n",
    "\n",
    "Temperature doesn't provide any guarantees of randomness, but it can be used to \"nudge\" the output somewhat.\n",
    "\n",
    "**Note that if you see a 429 Resource Exhausted error here, you may be able to edit the words in the prompt slightly to progress.**"
   ]
  },
  {
   "cell_type": "code",
   "execution_count": 14,
   "id": "872b777b",
   "metadata": {
    "execution": {
     "iopub.execute_input": "2024-11-21T07:47:10.306026Z",
     "iopub.status.busy": "2024-11-21T07:47:10.305667Z",
     "iopub.status.idle": "2024-11-21T07:47:12.077116Z",
     "shell.execute_reply": "2024-11-21T07:47:12.076020Z"
    },
    "id": "SHraGMzqnZqt",
    "papermill": {
     "duration": 1.786134,
     "end_time": "2024-11-21T07:47:12.079393",
     "exception": false,
     "start_time": "2024-11-21T07:47:10.293259",
     "status": "completed"
    },
    "tags": []
   },
   "outputs": [
    {
     "name": "stdout",
     "output_type": "stream",
     "text": [
      "Marigold\n",
      " -------------------------\n",
      "Maroon\n",
      " -------------------------\n",
      "Maroon\n",
      " -------------------------\n",
      "Maroon\n",
      " -------------------------\n",
      "Aquamarine\n",
      " -------------------------\n"
     ]
    }
   ],
   "source": [
    "from google.api_core import retry\n",
    "\n",
    "high_temp_model = genai.GenerativeModel(\n",
    "    'gemini-1.5-flash',\n",
    "    generation_config=genai.GenerationConfig(temperature=2.0))\n",
    "\n",
    "\n",
    "# When running lots of queries, it's a good practice to use a retry policy so your code\n",
    "# automatically retries when hitting Resource Exhausted (quota limit) errors.\n",
    "retry_policy = {\n",
    "    \"retry\": retry.Retry(predicate=retry.if_transient_error, initial=10, multiplier=1.5, timeout=300)\n",
    "}\n",
    "\n",
    "for _ in range(5):\n",
    "  response = high_temp_model.generate_content('Pick a random colour... (respond in a single word)',\n",
    "                                              request_options=retry_policy)\n",
    "  if response.parts:\n",
    "    print(response.text, '-' * 25)"
   ]
  },
  {
   "cell_type": "markdown",
   "id": "d3b516f7",
   "metadata": {
    "id": "z3J4pCTuof7e",
    "papermill": {
     "duration": 0.011684,
     "end_time": "2024-11-21T07:47:12.102783",
     "exception": false,
     "start_time": "2024-11-21T07:47:12.091099",
     "status": "completed"
    },
    "tags": []
   },
   "source": [
    "Now try the same prompt with temperature set to zero. Note that the output is not completely deterministic, as other parameters affect token selection, but the results will tend to be more stable."
   ]
  },
  {
   "cell_type": "code",
   "execution_count": 15,
   "id": "c9e281ed",
   "metadata": {
    "execution": {
     "iopub.execute_input": "2024-11-21T07:47:12.127638Z",
     "iopub.status.busy": "2024-11-21T07:47:12.127265Z",
     "iopub.status.idle": "2024-11-21T07:47:14.152959Z",
     "shell.execute_reply": "2024-11-21T07:47:14.151801Z"
    },
    "id": "clymkWv-PfUZ",
    "papermill": {
     "duration": 2.040591,
     "end_time": "2024-11-21T07:47:14.155117",
     "exception": false,
     "start_time": "2024-11-21T07:47:12.114526",
     "status": "completed"
    },
    "tags": []
   },
   "outputs": [
    {
     "name": "stdout",
     "output_type": "stream",
     "text": [
      "Maroon\n",
      " -------------------------\n",
      "Maroon\n",
      " -------------------------\n",
      "Maroon\n",
      " -------------------------\n",
      "Maroon\n",
      " -------------------------\n",
      "Maroon\n",
      " -------------------------\n"
     ]
    }
   ],
   "source": [
    "low_temp_model = genai.GenerativeModel(\n",
    "    'gemini-1.5-flash',\n",
    "    generation_config=genai.GenerationConfig(temperature=0.0))\n",
    "\n",
    "for _ in range(5):\n",
    "  response = low_temp_model.generate_content('Pick a random colour... (respond in a single word)',\n",
    "                                             request_options=retry_policy)\n",
    "  if response.parts:\n",
    "    print(response.text, '-' * 25)"
   ]
  },
  {
   "cell_type": "markdown",
   "id": "ecef07f6",
   "metadata": {
    "id": "St5nt3vzitsZ",
    "papermill": {
     "duration": 0.011733,
     "end_time": "2024-11-21T07:47:14.179423",
     "exception": false,
     "start_time": "2024-11-21T07:47:14.167690",
     "status": "completed"
    },
    "tags": []
   },
   "source": [
    "### Top-K and top-P\n",
    "\n",
    "Like temperature, top-K and top-P parameters are also used to control the diversity of the model's output.\n",
    "\n",
    "Top-K is a positive integer that defines the number of most probable tokens from which to select the output token. A top-K of 1 selects a single token, performing greedy decoding.\n",
    "\n",
    "Top-P defines the probability threshold that, once cumulatively exceeded, tokens stop being selected as candidates. A top-P of 0 is typically equivalent to greedy decoding, and a top-P of 1 typically selects every token in the model's vocabulary.\n",
    "\n",
    "When both are supplied, the Gemini API will filter top-K tokens first, then top-P and then finally sample from the candidate tokens using the supplied temperature.\n",
    "\n",
    "Run this example a number of times, change the settings and observe the change in output."
   ]
  },
  {
   "cell_type": "code",
   "execution_count": 16,
   "id": "840f96e0",
   "metadata": {
    "execution": {
     "iopub.execute_input": "2024-11-21T07:47:14.205086Z",
     "iopub.status.busy": "2024-11-21T07:47:14.204727Z",
     "iopub.status.idle": "2024-11-21T07:47:17.183270Z",
     "shell.execute_reply": "2024-11-21T07:47:17.182158Z"
    },
    "id": "lPlzpEavUV8F",
    "papermill": {
     "duration": 2.994208,
     "end_time": "2024-11-21T07:47:17.185642",
     "exception": false,
     "start_time": "2024-11-21T07:47:14.191434",
     "status": "completed"
    },
    "tags": []
   },
   "outputs": [
    {
     "name": "stdout",
     "output_type": "stream",
     "text": [
      "Barnaby was a ginger tabby with a heart full of wanderlust. He lived a life of routine, sunbathing on the windowsill, napping in the laundry basket, and occasionally deigning to play with the feather toy. But Barnaby yearned for more. He dreamt of faraway lands, of chasing butterflies in fields of wildflowers, of scaling mountains and swimming in crystal-clear lakes.\n",
      "\n",
      "One day, a delivery truck arrived, its back door swinging open to reveal a cardboard box filled with fragrant, green grass. Barnaby, his whiskers twitching with excitement, saw his chance. He crept closer, his emerald eyes gleaming with mischief. As the delivery man turned his back, Barnaby leaped, landing gracefully inside the box.\n",
      "\n",
      "The journey was bumpy, but Barnaby, nestled amongst the fragrant grass, felt a thrill course through him. He had never been so far from home. When the truck finally stopped, Barnaby emerged, blinking in the sunlight. He was in a park, a sprawling green expanse teeming with life.\n",
      "\n",
      "He sniffed the air, a symphony of scents filling his nostrils: freshly cut grass, blooming roses, and the sweet aroma of popcorn from a nearby vendor. A squirrel, its tail twitching, scurried up a tree, and Barnaby, his hunter instincts ignited, gave chase. He leaped and climbed, his claws finding purchase on the rough bark. The squirrel, nimble and quick, escaped, but Barnaby, panting but exhilarated, had tasted adventure.\n",
      "\n",
      "He explored the park, his senses on high alert. He chased butterflies, their wings a kaleidoscope of colors, and batted at playful pigeons. He even befriended a fluffy white dog, sharing a juicy bone and a playful romp.\n",
      "\n",
      "As the sun began to set, casting long shadows across the park, Barnaby felt a pang of longing for home. He missed the familiar scent of his human, the warmth of his favorite blanket. He knew he had to return.\n",
      "\n",
      "He found his way back to the delivery truck, its back door now open. He leaped inside, the familiar scent of grass bringing a wave of nostalgia. The journey back was just as bumpy, but this time, Barnaby felt a sense of contentment. He had tasted adventure, and it had filled him with a newfound appreciation for his cozy life at home.\n",
      "\n",
      "Back in his familiar territory, Barnaby curled up on his favorite windowsill, the setting sun painting the sky in hues of orange and purple. He closed his eyes, a contented purr rumbling in his chest. He had seen the world, and it had been wonderful, but home, he realized, was where his heart truly belonged. And maybe, just maybe, he would have another adventure someday. \n",
      "\n"
     ]
    }
   ],
   "source": [
    "model = genai.GenerativeModel(\n",
    "    'gemini-1.5-flash-001',\n",
    "    generation_config=genai.GenerationConfig(\n",
    "        # These are the default values for gemini-1.5-flash-001.\n",
    "        temperature=0.4,\n",
    "        top_k=55,\n",
    "        top_p=0.8,\n",
    "    ))\n",
    "\n",
    "story_prompt = \"You are a creative writer. Write a short story about a cat who goes on an adventure.\"\n",
    "response = model.generate_content(story_prompt, request_options=retry_policy)\n",
    "print(response.text)"
   ]
  },
  {
   "cell_type": "markdown",
   "id": "3cae3dc9",
   "metadata": {
    "id": "rMrYs1koY6DX",
    "papermill": {
     "duration": 0.012326,
     "end_time": "2024-11-21T07:47:17.210253",
     "exception": false,
     "start_time": "2024-11-21T07:47:17.197927",
     "status": "completed"
    },
    "tags": []
   },
   "source": [
    "## Prompting\n",
    "\n",
    "This section contains some prompts from the chapter for you to try out directly in the API. Try changing the text here to see how each prompt performs with different instructions, more examples, or any other changes you can think of."
   ]
  },
  {
   "cell_type": "markdown",
   "id": "b39fc69d",
   "metadata": {
    "id": "hhj_tQidZJP7",
    "papermill": {
     "duration": 0.011793,
     "end_time": "2024-11-21T07:47:17.234137",
     "exception": false,
     "start_time": "2024-11-21T07:47:17.222344",
     "status": "completed"
    },
    "tags": []
   },
   "source": [
    "### Zero-shot\n",
    "\n",
    "Zero-shot prompts are prompts that describe the request for the model directly.\n",
    "\n",
    "<table align=left>\n",
    "  <td>\n",
    "    <a target=\"_blank\" href=\"https://aistudio.google.com/prompts/1gzKKgDHwkAvexG5Up0LMtl1-6jKMKe4g\"><img src=\"https://ai.google.dev/site-assets/images/marketing/home/icon-ais.png\" style=\"height: 24px\" height=24/> Open in AI Studio</a>\n",
    "  </td>\n",
    "</table>"
   ]
  },
  {
   "cell_type": "code",
   "execution_count": 17,
   "id": "33d667dc",
   "metadata": {
    "execution": {
     "iopub.execute_input": "2024-11-21T07:47:17.260224Z",
     "iopub.status.busy": "2024-11-21T07:47:17.259859Z",
     "iopub.status.idle": "2024-11-21T07:47:24.303773Z",
     "shell.execute_reply": "2024-11-21T07:47:24.302418Z"
    },
    "id": "1_t-cwnDZzbH",
    "papermill": {
     "duration": 7.059732,
     "end_time": "2024-11-21T07:47:24.306021",
     "exception": false,
     "start_time": "2024-11-21T07:47:17.246289",
     "status": "completed"
    },
    "tags": []
   },
   "outputs": [
    {
     "name": "stdout",
     "output_type": "stream",
     "text": [
      "Sentiment: **POSITIVE**\n"
     ]
    }
   ],
   "source": [
    "model = genai.GenerativeModel(\n",
    "    'gemini-1.5-flash-001',\n",
    "    generation_config=genai.GenerationConfig(\n",
    "        temperature=0.1,\n",
    "        top_p=1,\n",
    "        max_output_tokens=5,\n",
    "    ))\n",
    "\n",
    "zero_shot_prompt = \"\"\"Classify movie reviews as POSITIVE, NEUTRAL or NEGATIVE.\n",
    "Review: \"Her\" is a disturbing study revealing the direction\n",
    "humanity is headed if AI is allowed to keep evolving,\n",
    "unchecked. I wish there were more movies like this masterpiece.\n",
    "Sentiment: \"\"\"\n",
    "\n",
    "response = model.generate_content(zero_shot_prompt, request_options=retry_policy)\n",
    "print(response.text)"
   ]
  },
  {
   "cell_type": "markdown",
   "id": "bcfa21cb",
   "metadata": {
    "id": "3b5568bdeb11",
    "papermill": {
     "duration": 0.011644,
     "end_time": "2024-11-21T07:47:24.329866",
     "exception": false,
     "start_time": "2024-11-21T07:47:24.318222",
     "status": "completed"
    },
    "tags": []
   },
   "source": [
    "#### Enum mode\n",
    "\n",
    "The models are trained to generate text, and can sometimes produce more text than you may wish for. In the preceding example, the model will output the label, sometimes it can include a preceding \"Sentiment\" label, and without an output token limit, it may also add explanatory text afterwards.\n",
    "\n",
    "The Gemini API has an [Enum mode](https://github.com/google-gemini/cookbook/blob/main/quickstarts/Enum.ipynb) feature that allows you to constrain the output to a fixed set of values."
   ]
  },
  {
   "cell_type": "code",
   "execution_count": 18,
   "id": "c5431121",
   "metadata": {
    "execution": {
     "iopub.execute_input": "2024-11-21T07:47:24.355553Z",
     "iopub.status.busy": "2024-11-21T07:47:24.355143Z",
     "iopub.status.idle": "2024-11-21T07:47:24.930718Z",
     "shell.execute_reply": "2024-11-21T07:47:24.929336Z"
    },
    "id": "ad118a56c598",
    "papermill": {
     "duration": 0.591119,
     "end_time": "2024-11-21T07:47:24.933000",
     "exception": false,
     "start_time": "2024-11-21T07:47:24.341881",
     "status": "completed"
    },
    "tags": []
   },
   "outputs": [
    {
     "name": "stdout",
     "output_type": "stream",
     "text": [
      "positive\n"
     ]
    }
   ],
   "source": [
    "import enum\n",
    "\n",
    "class Sentiment(enum.Enum):\n",
    "    POSITIVE = \"positive\"\n",
    "    NEUTRAL = \"neutral\"\n",
    "    NEGATIVE = \"negative\"\n",
    "\n",
    "\n",
    "model = genai.GenerativeModel(\n",
    "    'gemini-1.5-flash-001',\n",
    "    generation_config=genai.GenerationConfig(\n",
    "        response_mime_type=\"text/x.enum\",\n",
    "        response_schema=Sentiment\n",
    "    ))\n",
    "\n",
    "response = model.generate_content(zero_shot_prompt, request_options=retry_policy)\n",
    "print(response.text)"
   ]
  },
  {
   "cell_type": "markdown",
   "id": "d3c8e1d9",
   "metadata": {
    "id": "0udiSwNbv45W",
    "papermill": {
     "duration": 0.01198,
     "end_time": "2024-11-21T07:47:24.957985",
     "exception": false,
     "start_time": "2024-11-21T07:47:24.946005",
     "status": "completed"
    },
    "tags": []
   },
   "source": [
    "### One-shot and few-shot\n",
    "\n",
    "Providing an example of the expected response is known as a \"one-shot\" prompt. When you provide multiple examples, it is a \"few-shot\" prompt.\n",
    "\n",
    "<table align=left>\n",
    "  <td>\n",
    "    <a target=\"_blank\" href=\"https://aistudio.google.com/prompts/1jjWkjUSoMXmLvMJ7IzADr_GxHPJVV2bg\"><img src=\"https://ai.google.dev/site-assets/images/marketing/home/icon-ais.png\" style=\"height: 24px\" height=24/> Open in AI Studio</a>\n",
    "  </td>\n",
    "</table>\n"
   ]
  },
  {
   "cell_type": "code",
   "execution_count": 19,
   "id": "9d22f2ee",
   "metadata": {
    "execution": {
     "iopub.execute_input": "2024-11-21T07:47:24.984474Z",
     "iopub.status.busy": "2024-11-21T07:47:24.984067Z",
     "iopub.status.idle": "2024-11-21T07:47:25.521009Z",
     "shell.execute_reply": "2024-11-21T07:47:25.519685Z"
    },
    "id": "hd4mVUukwOKZ",
    "papermill": {
     "duration": 0.553076,
     "end_time": "2024-11-21T07:47:25.523184",
     "exception": false,
     "start_time": "2024-11-21T07:47:24.970108",
     "status": "completed"
    },
    "tags": []
   },
   "outputs": [
    {
     "name": "stdout",
     "output_type": "stream",
     "text": [
      "```json\n",
      "{\n",
      "  \"size\": \"large\",\n",
      "  \"type\": \"normal\",\n",
      "  \"ingredients\": [\"cheese\", \"pineapple\"]\n",
      "}\n",
      "```\n",
      "\n"
     ]
    }
   ],
   "source": [
    "model = genai.GenerativeModel(\n",
    "    'gemini-1.5-flash-latest',\n",
    "    generation_config=genai.GenerationConfig(\n",
    "        temperature=0.1,\n",
    "        top_p=1,\n",
    "        max_output_tokens=250,\n",
    "    ))\n",
    "\n",
    "few_shot_prompt = \"\"\"Parse a customer's pizza order into valid JSON:\n",
    "\n",
    "EXAMPLE:\n",
    "I want a small pizza with cheese, tomato sauce, and pepperoni.\n",
    "JSON Response:\n",
    "```\n",
    "{\n",
    "\"size\": \"small\",\n",
    "\"type\": \"normal\",\n",
    "\"ingredients\": [\"cheese\", \"tomato sauce\", \"peperoni\"]\n",
    "}\n",
    "```\n",
    "\n",
    "EXAMPLE:\n",
    "Can I get a large pizza with tomato sauce, basil and mozzarella\n",
    "JSON Response:\n",
    "```\n",
    "{\n",
    "\"size\": \"large\",\n",
    "\"type\": \"normal\",\n",
    "\"ingredients\": [\"tomato sauce\", \"basil\", \"mozzarella\"]\n",
    "}\n",
    "\n",
    "ORDER:\n",
    "\"\"\"\n",
    "\n",
    "customer_order = \"Give me a large with cheese & pineapple\"\n",
    "\n",
    "\n",
    "response = model.generate_content([few_shot_prompt, customer_order], request_options=retry_policy)\n",
    "print(response.text)"
   ]
  },
  {
   "cell_type": "markdown",
   "id": "42f4ab07",
   "metadata": {
    "id": "021293096f08",
    "papermill": {
     "duration": 0.01187,
     "end_time": "2024-11-21T07:47:25.547425",
     "exception": false,
     "start_time": "2024-11-21T07:47:25.535555",
     "status": "completed"
    },
    "tags": []
   },
   "source": [
    "#### JSON mode\n",
    "\n",
    "To provide control over the schema, and to ensure that you only receive JSON (with no other text or markdown), you can use the Gemini API's [JSON mode](https://github.com/google-gemini/cookbook/blob/main/quickstarts/JSON_mode.ipynb). This forces the model to constrain decoding, such that token selection is guided by the supplied schema."
   ]
  },
  {
   "cell_type": "code",
   "execution_count": 20,
   "id": "ee7ef545",
   "metadata": {
    "execution": {
     "iopub.execute_input": "2024-11-21T07:47:25.573680Z",
     "iopub.status.busy": "2024-11-21T07:47:25.573234Z",
     "iopub.status.idle": "2024-11-21T07:47:26.179070Z",
     "shell.execute_reply": "2024-11-21T07:47:26.177906Z"
    },
    "id": "50fbf0260912",
    "papermill": {
     "duration": 0.621636,
     "end_time": "2024-11-21T07:47:26.181380",
     "exception": false,
     "start_time": "2024-11-21T07:47:25.559744",
     "status": "completed"
    },
    "tags": []
   },
   "outputs": [
    {
     "name": "stdout",
     "output_type": "stream",
     "text": [
      "{\"ingredients\": [\"apple\", \"chocolate\"], \"size\": \"large\", \"type\": \"dessert pizza\"}\n"
     ]
    }
   ],
   "source": [
    "import typing_extensions as typing\n",
    "\n",
    "class PizzaOrder(typing.TypedDict):\n",
    "    size: str\n",
    "    ingredients: list[str]\n",
    "    type: str\n",
    "\n",
    "\n",
    "model = genai.GenerativeModel(\n",
    "    'gemini-1.5-flash-latest',\n",
    "    generation_config=genai.GenerationConfig(\n",
    "        temperature=0.1,\n",
    "        response_mime_type=\"application/json\",\n",
    "        response_schema=PizzaOrder,\n",
    "    ))\n",
    "\n",
    "response = model.generate_content(\"Can I have a large dessert pizza with apple and chocolate\")\n",
    "print(response.text)"
   ]
  },
  {
   "cell_type": "markdown",
   "id": "92f49b3e",
   "metadata": {
    "id": "4a93e338e57c",
    "papermill": {
     "duration": 0.012489,
     "end_time": "2024-11-21T07:47:26.206225",
     "exception": false,
     "start_time": "2024-11-21T07:47:26.193736",
     "status": "completed"
    },
    "tags": []
   },
   "source": [
    "### Chain of Thought (CoT)\n",
    "\n",
    "Direct prompting on LLMs can return answers quickly and (in terms of output token usage) efficiently, but they can be prone to hallucination. The answer may \"look\" correct (in terms of language and syntax) but is incorrect in terms of factuality and reasoning.\n",
    "\n",
    "Chain-of-Thought prompting is a technique where you instruct the model to output intermediate reasoning steps, and it typically gets better results, especially when combined with few-shot examples. It is worth noting that this technique doesn't completely eliminate hallucinations, and that it tends to cost more to run, due to the increased token count.\n",
    "\n",
    "As models like the Gemini family are trained to be \"chatty\" and provide reasoning steps, you can ask the model to be more direct in the prompt."
   ]
  },
  {
   "cell_type": "code",
   "execution_count": 21,
   "id": "443e98bd",
   "metadata": {
    "execution": {
     "iopub.execute_input": "2024-11-21T07:47:26.232496Z",
     "iopub.status.busy": "2024-11-21T07:47:26.232068Z",
     "iopub.status.idle": "2024-11-21T07:47:26.562560Z",
     "shell.execute_reply": "2024-11-21T07:47:26.561252Z"
    },
    "id": "5715555db1c1",
    "papermill": {
     "duration": 0.346586,
     "end_time": "2024-11-21T07:47:26.565020",
     "exception": false,
     "start_time": "2024-11-21T07:47:26.218434",
     "status": "completed"
    },
    "tags": []
   },
   "outputs": [
    {
     "name": "stdout",
     "output_type": "stream",
     "text": [
      "41\n",
      "\n"
     ]
    }
   ],
   "source": [
    "prompt = \"\"\"When I was 4 years old, my partner was 3 times my age. Now, I\n",
    "am 20 years old. How old is my partner? Return the answer directly.\"\"\"\n",
    "\n",
    "model = genai.GenerativeModel('gemini-1.5-flash-latest')\n",
    "response = model.generate_content(prompt, request_options=retry_policy)\n",
    "\n",
    "print(response.text)"
   ]
  },
  {
   "cell_type": "markdown",
   "id": "afd6703a",
   "metadata": {
    "id": "e12b19677bfd",
    "papermill": {
     "duration": 0.012041,
     "end_time": "2024-11-21T07:47:26.589460",
     "exception": false,
     "start_time": "2024-11-21T07:47:26.577419",
     "status": "completed"
    },
    "tags": []
   },
   "source": [
    "Now try the same approach, but indicate to the model that it should \"think step by step\"."
   ]
  },
  {
   "cell_type": "code",
   "execution_count": 22,
   "id": "1079db3d",
   "metadata": {
    "execution": {
     "iopub.execute_input": "2024-11-21T07:47:26.616031Z",
     "iopub.status.busy": "2024-11-21T07:47:26.615236Z",
     "iopub.status.idle": "2024-11-21T07:47:27.835727Z",
     "shell.execute_reply": "2024-11-21T07:47:27.834407Z"
    },
    "id": "ffd7536a481f",
    "papermill": {
     "duration": 1.236285,
     "end_time": "2024-11-21T07:47:27.838067",
     "exception": false,
     "start_time": "2024-11-21T07:47:26.601782",
     "status": "completed"
    },
    "tags": []
   },
   "outputs": [
    {
     "name": "stdout",
     "output_type": "stream",
     "text": [
      "Step 1: Find the partner's age when you were 4.\n",
      "\n",
      "* When you were 4, your partner was 3 times your age, so they were 3 * 4 = 12 years old.\n",
      "\n",
      "Step 2: Find the age difference between you and your partner.\n",
      "\n",
      "* The age difference is 12 - 4 = 8 years.\n",
      "\n",
      "Step 3: Determine your partner's current age.\n",
      "\n",
      "* You are now 20 years old.\n",
      "* Since your partner is 8 years older, your partner is currently 20 + 8 = 28 years old.\n",
      "\n",
      "Therefore, your partner is now $\\boxed{28}$ years old.\n",
      "\n"
     ]
    }
   ],
   "source": [
    "prompt = \"\"\"When I was 4 years old, my partner was 3 times my age. Now,\n",
    "I am 20 years old. How old is my partner? Let's think step by step.\"\"\"\n",
    "\n",
    "response = model.generate_content(prompt, request_options=retry_policy)\n",
    "print(response.text)"
   ]
  },
  {
   "cell_type": "markdown",
   "id": "efdd5a20",
   "metadata": {
    "id": "oiLgBQJj0V53",
    "papermill": {
     "duration": 0.012285,
     "end_time": "2024-11-21T07:47:27.862932",
     "exception": false,
     "start_time": "2024-11-21T07:47:27.850647",
     "status": "completed"
    },
    "tags": []
   },
   "source": [
    "### ReAct: Reason and act\n",
    "\n",
    "In this example you will run a ReAct prompt directly in the Gemini API and perform the searching steps yourself. As this prompt follows a well-defined structure, there are frameworks available that wrap the prompt into easier-to-use APIs that make tool calls automatically, such as the LangChain example from the chapter.\n",
    "\n",
    "To try this out with the Wikipedia search engine, check out the [Searching Wikipedia with ReAct](https://github.com/google-gemini/cookbook/blob/main/examples/Search_Wikipedia_using_ReAct.ipynb) cookbook example.\n",
    "\n",
    "\n",
    "> Note: The prompt and in-context examples used here are from [https://github.com/ysymyth/ReAct](https://github.com/ysymyth/ReAct) which is published under a [MIT license](https://opensource.org/licenses/MIT), Copyright (c) 2023 Shunyu Yao.\n",
    "\n",
    "<table align=left>\n",
    "  <td>\n",
    "    <a target=\"_blank\" href=\"https://aistudio.google.com/prompts/18oo63Lwosd-bQ6Ay51uGogB3Wk3H8XMO\"><img src=\"https://ai.google.dev/site-assets/images/marketing/home/icon-ais.png\" style=\"height: 24px\" height=24/> Open in AI Studio</a>\n",
    "  </td>\n",
    "</table>\n"
   ]
  },
  {
   "cell_type": "code",
   "execution_count": 23,
   "id": "8dbec3a8",
   "metadata": {
    "execution": {
     "iopub.execute_input": "2024-11-21T07:47:27.890050Z",
     "iopub.status.busy": "2024-11-21T07:47:27.889707Z",
     "iopub.status.idle": "2024-11-21T07:47:27.895712Z",
     "shell.execute_reply": "2024-11-21T07:47:27.894713Z"
    },
    "id": "cBgyNJ5z0VSs",
    "papermill": {
     "duration": 0.022328,
     "end_time": "2024-11-21T07:47:27.897807",
     "exception": false,
     "start_time": "2024-11-21T07:47:27.875479",
     "status": "completed"
    },
    "tags": []
   },
   "outputs": [],
   "source": [
    "model_instructions = \"\"\"\n",
    "Solve a question answering task with interleaving Thought, Action, Observation steps. Thought can reason about the current situation,\n",
    "Observation is understanding relevant information from an Action's output and Action can be one of three types:\n",
    " (1) <search>entity</search>, which searches the exact entity on Wikipedia and returns the first paragraph if it exists. If not, it\n",
    "     will return some similar entities to search and you can try to search the information from those topics.\n",
    " (2) <lookup>keyword</lookup>, which returns the next sentence containing keyword in the current context. This only does exact matches,\n",
    "     so keep your searches short.\n",
    " (3) <finish>answer</finish>, which returns the answer and finishes the task.\n",
    "\"\"\"\n",
    "\n",
    "example1 = \"\"\"Question\n",
    "Musician and satirist Allie Goertz wrote a song about the \"The Simpsons\" character Milhouse, who Matt Groening named after who?\n",
    "\n",
    "Thought 1\n",
    "The question simplifies to \"The Simpsons\" character Milhouse is named after who. I only need to search Milhouse and find who it is named after.\n",
    "\n",
    "Action 1\n",
    "<search>Milhouse</search>\n",
    "\n",
    "Observation 1\n",
    "Milhouse Mussolini Van Houten is a recurring character in the Fox animated television series The Simpsons voiced by Pamela Hayden and created by Matt Groening.\n",
    "\n",
    "Thought 2\n",
    "The paragraph does not tell who Milhouse is named after, maybe I can look up \"named after\".\n",
    "\n",
    "Action 2\n",
    "<lookup>named after</lookup>\n",
    "\n",
    "Observation 2\n",
    "Milhouse was named after U.S. president Richard Nixon, whose middle name was Milhous.\n",
    "\n",
    "Thought 3\n",
    "Milhouse was named after U.S. president Richard Nixon, so the answer is Richard Nixon.\n",
    "\n",
    "Action 3\n",
    "<finish>Richard Nixon</finish>\n",
    "\"\"\"\n",
    "\n",
    "example2 = \"\"\"Question\n",
    "What is the elevation range for the area that the eastern sector of the Colorado orogeny extends into?\n",
    "\n",
    "Thought 1\n",
    "I need to search Colorado orogeny, find the area that the eastern sector of the Colorado orogeny extends into, then find the elevation range of the area.\n",
    "\n",
    "Action 1\n",
    "<search>Colorado orogeny</search>\n",
    "\n",
    "Observation 1\n",
    "The Colorado orogeny was an episode of mountain building (an orogeny) in Colorado and surrounding areas.\n",
    "\n",
    "Thought 2\n",
    "It does not mention the eastern sector. So I need to look up eastern sector.\n",
    "\n",
    "Action 2\n",
    "<lookup>eastern sector</lookup>\n",
    "\n",
    "Observation 2\n",
    "The eastern sector extends into the High Plains and is called the Central Plains orogeny.\n",
    "\n",
    "Thought 3\n",
    "The eastern sector of Colorado orogeny extends into the High Plains. So I need to search High Plains and find its elevation range.\n",
    "\n",
    "Action 3\n",
    "<search>High Plains</search>\n",
    "\n",
    "Observation 3\n",
    "High Plains refers to one of two distinct land regions\n",
    "\n",
    "Thought 4\n",
    "I need to instead search High Plains (United States).\n",
    "\n",
    "Action 4\n",
    "<search>High Plains (United States)</search>\n",
    "\n",
    "Observation 4\n",
    "The High Plains are a subregion of the Great Plains. From east to west, the High Plains rise in elevation from around 1,800 to 7,000 ft (550 to 2,130m).\n",
    "\n",
    "Thought 5\n",
    "High Plains rise in elevation from around 1,800 to 7,000 ft, so the answer is 1,800 to 7,000 ft.\n",
    "\n",
    "Action 5\n",
    "<finish>1,800 to 7,000 ft</finish>\n",
    "\"\"\"\n",
    "\n",
    "# Come up with more examples yourself, or take a look through https://github.com/ysymyth/ReAct/"
   ]
  },
  {
   "cell_type": "markdown",
   "id": "4f18269d",
   "metadata": {
    "id": "C3wbfstjTgey",
    "papermill": {
     "duration": 0.011988,
     "end_time": "2024-11-21T07:47:27.922498",
     "exception": false,
     "start_time": "2024-11-21T07:47:27.910510",
     "status": "completed"
    },
    "tags": []
   },
   "source": [
    "To capture a single step at a time, while ignoring any hallucinated Observation steps, you will use `stop_sequences` to end the generation process. The steps are `Thought`, `Action`, `Observation`, in that order."
   ]
  },
  {
   "cell_type": "code",
   "execution_count": 24,
   "id": "96a84c0b",
   "metadata": {
    "execution": {
     "iopub.execute_input": "2024-11-21T07:47:27.948871Z",
     "iopub.status.busy": "2024-11-21T07:47:27.948486Z",
     "iopub.status.idle": "2024-11-21T07:47:31.444597Z",
     "shell.execute_reply": "2024-11-21T07:47:31.443539Z"
    },
    "id": "8mxrXRkRTdXm",
    "papermill": {
     "duration": 3.51208,
     "end_time": "2024-11-21T07:47:31.446957",
     "exception": false,
     "start_time": "2024-11-21T07:47:27.934877",
     "status": "completed"
    },
    "tags": []
   },
   "outputs": [
    {
     "name": "stdout",
     "output_type": "stream",
     "text": [
      "Thought 1\n",
      "I need to find the Transformers NLP paper and then find the authors' ages to determine the youngest.  This will require searching for the paper and then potentially looking up the authors individually.\n",
      "\n",
      "Action 1\n",
      "<search>Transformers NLP paper</search>\n",
      "\n"
     ]
    }
   ],
   "source": [
    "question = \"\"\"Question\n",
    "Who was the youngest author listed on the transformers NLP paper?\n",
    "\"\"\"\n",
    "\n",
    "model = genai.GenerativeModel('gemini-1.5-flash-latest')\n",
    "react_chat = model.start_chat()\n",
    "\n",
    "# You will perform the Action, so generate up to, but not including, the Observation.\n",
    "config = genai.GenerationConfig(stop_sequences=[\"\\nObservation\"])\n",
    "\n",
    "resp = react_chat.send_message(\n",
    "    [model_instructions, example1, example2, question],\n",
    "    generation_config=config,\n",
    "    request_options=retry_policy)\n",
    "print(resp.text)"
   ]
  },
  {
   "cell_type": "markdown",
   "id": "a7159a1b",
   "metadata": {
    "id": "aW2PIdLbVv3l",
    "papermill": {
     "duration": 0.01276,
     "end_time": "2024-11-21T07:47:31.472448",
     "exception": false,
     "start_time": "2024-11-21T07:47:31.459688",
     "status": "completed"
    },
    "tags": []
   },
   "source": [
    "Now you can perform this research yourself and supply it back to the model."
   ]
  },
  {
   "cell_type": "code",
   "execution_count": 25,
   "id": "57d4a78c",
   "metadata": {
    "execution": {
     "iopub.execute_input": "2024-11-21T07:47:31.498990Z",
     "iopub.status.busy": "2024-11-21T07:47:31.498589Z",
     "iopub.status.idle": "2024-11-21T07:47:34.694701Z",
     "shell.execute_reply": "2024-11-21T07:47:34.693145Z"
    },
    "id": "mLMc0DZaV9g2",
    "papermill": {
     "duration": 3.212354,
     "end_time": "2024-11-21T07:47:34.697266",
     "exception": false,
     "start_time": "2024-11-21T07:47:31.484912",
     "status": "completed"
    },
    "tags": []
   },
   "outputs": [
    {
     "name": "stdout",
     "output_type": "stream",
     "text": [
      "Thought 2\n",
      "The observation gives me the authors of the paper \"Attention is All You Need\". I need to find their ages to identify the youngest.  This is difficult to do directly; I'll need to search for each author individually, which is inefficient.  I may need to look for a resource listing the authors and their biographical information.  I will try a different approach:  searching for \"Attention is All You Need authors age\".\n",
      "\n",
      "\n",
      "Action 2\n",
      "<search>Attention is All You Need authors age</search>\n",
      "\n"
     ]
    }
   ],
   "source": [
    "observation = \"\"\"Observation 1\n",
    "[1706.03762] Attention Is All You Need\n",
    "Ashish Vaswani, Noam Shazeer, Niki Parmar, Jakob Uszkoreit, Llion Jones, Aidan N. Gomez, Lukasz Kaiser, Illia Polosukhin\n",
    "We propose a new simple network architecture, the Transformer, based solely on attention mechanisms, dispensing with recurrence and convolutions entirely.\n",
    "\"\"\"\n",
    "resp = react_chat.send_message(observation, generation_config=config, request_options=retry_policy)\n",
    "print(resp.text)"
   ]
  },
  {
   "cell_type": "markdown",
   "id": "85096d14",
   "metadata": {
    "id": "bo0tzf4nX6dA",
    "papermill": {
     "duration": 0.01321,
     "end_time": "2024-11-21T07:47:34.724340",
     "exception": false,
     "start_time": "2024-11-21T07:47:34.711130",
     "status": "completed"
    },
    "tags": []
   },
   "source": [
    "This process repeats until the `<finish>` action is reached. You can continue running this yourself if you like, or try the [Wikipedia example](https://github.com/google-gemini/cookbook/blob/main/examples/Search_Wikipedia_using_ReAct.ipynb) to see a fully automated ReAct system at work."
   ]
  },
  {
   "cell_type": "markdown",
   "id": "024ac946",
   "metadata": {
    "id": "jPiZ_eIIaVPt",
    "papermill": {
     "duration": 0.013172,
     "end_time": "2024-11-21T07:47:34.750721",
     "exception": false,
     "start_time": "2024-11-21T07:47:34.737549",
     "status": "completed"
    },
    "tags": []
   },
   "source": [
    "## Code prompting"
   ]
  },
  {
   "cell_type": "markdown",
   "id": "2bb3c7b6",
   "metadata": {
    "id": "ZinKamwXeR6C",
    "papermill": {
     "duration": 0.012494,
     "end_time": "2024-11-21T07:47:34.776055",
     "exception": false,
     "start_time": "2024-11-21T07:47:34.763561",
     "status": "completed"
    },
    "tags": []
   },
   "source": [
    "### Generating code\n",
    "\n",
    "The Gemini family of models can be used to generate code, configuration and scripts. Generating code can be helpful when learning to code, learning a new language or for rapidly generating a first draft.\n",
    "\n",
    "It's important to be aware that since LLMs can't reason, and can repeat training data, it's essential to read and test your code first, and comply with any relevant licenses.\n",
    "\n",
    "<table align=left>\n",
    "  <td>\n",
    "    <a target=\"_blank\" href=\"https://aistudio.google.com/prompts/1YX71JGtzDjXQkgdes8bP6i3oH5lCRKxv\"><img src=\"https://ai.google.dev/site-assets/images/marketing/home/icon-ais.png\" style=\"height: 24px\" height=24/> Open in AI Studio</a>\n",
    "  </td>\n",
    "</table>"
   ]
  },
  {
   "cell_type": "code",
   "execution_count": 26,
   "id": "4d56ccf4",
   "metadata": {
    "execution": {
     "iopub.execute_input": "2024-11-21T07:47:34.803451Z",
     "iopub.status.busy": "2024-11-21T07:47:34.803017Z",
     "iopub.status.idle": "2024-11-21T07:47:35.359693Z",
     "shell.execute_reply": "2024-11-21T07:47:35.358611Z"
    },
    "id": "fOQP9pqmeUO1",
    "papermill": {
     "duration": 0.572681,
     "end_time": "2024-11-21T07:47:35.361708",
     "exception": false,
     "start_time": "2024-11-21T07:47:34.789027",
     "status": "completed"
    },
    "tags": []
   },
   "outputs": [
    {
     "data": {
      "text/markdown": [
       "```python\n",
       "def factorial(n):\n",
       "  if n == 0:\n",
       "    return 1\n",
       "  else:\n",
       "    return n * factorial(n-1)\n",
       "```\n"
      ],
      "text/plain": [
       "<IPython.core.display.Markdown object>"
      ]
     },
     "execution_count": 26,
     "metadata": {},
     "output_type": "execute_result"
    }
   ],
   "source": [
    "model = genai.GenerativeModel(\n",
    "    'gemini-1.5-flash-latest',\n",
    "    generation_config=genai.GenerationConfig(\n",
    "        temperature=1,\n",
    "        top_p=1,\n",
    "        max_output_tokens=1024,\n",
    "    ))\n",
    "\n",
    "# Gemini 1.5 models are very chatty, so it helps to specify they stick to the code.\n",
    "code_prompt = \"\"\"\n",
    "Write a Python function to calculate the factorial of a number. No explanation, provide only the code.\n",
    "\"\"\"\n",
    "\n",
    "response = model.generate_content(code_prompt, request_options=retry_policy)\n",
    "Markdown(response.text)"
   ]
  },
  {
   "cell_type": "markdown",
   "id": "98f9a944",
   "metadata": {
    "id": "wlBMWSFhgVRQ",
    "papermill": {
     "duration": 0.012379,
     "end_time": "2024-11-21T07:47:35.386747",
     "exception": false,
     "start_time": "2024-11-21T07:47:35.374368",
     "status": "completed"
    },
    "tags": []
   },
   "source": [
    "### Code execution\n",
    "\n",
    "The Gemini API can automatically run generated code too, and will return the output.\n",
    "\n",
    "<table align=left>\n",
    "  <td>\n",
    "    <a target=\"_blank\" href=\"https://aistudio.google.com/prompts/11veFr_VYEwBWcLkhNLr-maCG0G8sS_7Z\"><img src=\"https://ai.google.dev/site-assets/images/marketing/home/icon-ais.png\" style=\"height: 24px\" height=24/> Open in AI Studio</a>\n",
    "  </td>\n",
    "</table>"
   ]
  },
  {
   "cell_type": "code",
   "execution_count": 27,
   "id": "429bc067",
   "metadata": {
    "execution": {
     "iopub.execute_input": "2024-11-21T07:47:35.413621Z",
     "iopub.status.busy": "2024-11-21T07:47:35.413240Z",
     "iopub.status.idle": "2024-11-21T07:47:37.890633Z",
     "shell.execute_reply": "2024-11-21T07:47:37.889364Z"
    },
    "id": "jT3OfWYfhjRL",
    "papermill": {
     "duration": 2.493528,
     "end_time": "2024-11-21T07:47:37.892888",
     "exception": false,
     "start_time": "2024-11-21T07:47:35.399360",
     "status": "completed"
    },
    "tags": []
   },
   "outputs": [
    {
     "data": {
      "text/markdown": [
       "To calculate the sum of the first 14 odd prime numbers, I need to first identify those primes.  The first few odd primes are 3, 5, 7, 11, 13, and so on.  I will use Python to generate these primes and then sum them.\n",
       "\n",
       "\n",
       "``` python\n",
       "def is_prime(n):\n",
       "    \"\"\"Checks if a number is prime.\"\"\"\n",
       "    if n <= 1:\n",
       "        return False\n",
       "    for i in range(2, int(n**0.5) + 1):\n",
       "        if n % i == 0:\n",
       "            return False\n",
       "    return True\n",
       "\n",
       "count = 0\n",
       "number = 2\n",
       "sum_of_primes = 0\n",
       "while count < 14:\n",
       "    if is_prime(number) and number % 2 != 0:\n",
       "        sum_of_primes += number\n",
       "        count += 1\n",
       "    number += 1\n",
       "\n",
       "print(f\"The sum of the first 14 odd prime numbers is: {sum_of_primes}\")\n",
       "\n",
       "\n",
       "```\n",
       "```\n",
       "The sum of the first 14 odd prime numbers is: 326\n",
       "\n",
       "```\n",
       "Therefore, the sum of the first 14 odd prime numbers is 326.\n"
      ],
      "text/plain": [
       "<IPython.core.display.Markdown object>"
      ]
     },
     "execution_count": 27,
     "metadata": {},
     "output_type": "execute_result"
    }
   ],
   "source": [
    "model = genai.GenerativeModel(\n",
    "    'gemini-1.5-flash-latest',\n",
    "    tools='code_execution',)\n",
    "\n",
    "code_exec_prompt = \"\"\"\n",
    "Calculate the sum of the first 14 prime numbers. Only consider the odd primes, and make sure you count them all.\n",
    "\"\"\"\n",
    "\n",
    "response = model.generate_content(code_exec_prompt, request_options=retry_policy)\n",
    "Markdown(response.text)"
   ]
  },
  {
   "cell_type": "markdown",
   "id": "a7422a7a",
   "metadata": {
    "id": "ZspT1GSkjG6d",
    "papermill": {
     "duration": 0.01228,
     "end_time": "2024-11-21T07:47:37.917880",
     "exception": false,
     "start_time": "2024-11-21T07:47:37.905600",
     "status": "completed"
    },
    "tags": []
   },
   "source": [
    "While this looks like a single-part response, you can inspect the response to see the each of the steps: initial text, code generation, execution results, and final text summary."
   ]
  },
  {
   "cell_type": "code",
   "execution_count": 28,
   "id": "f8fac1eb",
   "metadata": {
    "execution": {
     "iopub.execute_input": "2024-11-21T07:47:37.945870Z",
     "iopub.status.busy": "2024-11-21T07:47:37.945486Z",
     "iopub.status.idle": "2024-11-21T07:47:37.951603Z",
     "shell.execute_reply": "2024-11-21T07:47:37.950534Z"
    },
    "id": "j4gQVzcRjRX-",
    "papermill": {
     "duration": 0.022428,
     "end_time": "2024-11-21T07:47:37.953887",
     "exception": false,
     "start_time": "2024-11-21T07:47:37.931459",
     "status": "completed"
    },
    "tags": []
   },
   "outputs": [
    {
     "name": "stdout",
     "output_type": "stream",
     "text": [
      "text: \"To calculate the sum of the first 14 odd prime numbers, I need to first identify those primes.  The first few odd primes are 3, 5, 7, 11, 13, and so on.  I will use Python to generate these primes and then sum them.\\n\\n\"\n",
      "\n",
      "-----\n",
      "executable_code {\n",
      "  language: PYTHON\n",
      "  code: \"\\ndef is_prime(n):\\n    \\\"\\\"\\\"Checks if a number is prime.\\\"\\\"\\\"\\n    if n <= 1:\\n        return False\\n    for i in range(2, int(n**0.5) + 1):\\n        if n % i == 0:\\n            return False\\n    return True\\n\\ncount = 0\\nnumber = 2\\nsum_of_primes = 0\\nwhile count < 14:\\n    if is_prime(number) and number % 2 != 0:\\n        sum_of_primes += number\\n        count += 1\\n    number += 1\\n\\nprint(f\\\"The sum of the first 14 odd prime numbers is: {sum_of_primes}\\\")\\n\\n\"\n",
      "}\n",
      "\n",
      "-----\n",
      "code_execution_result {\n",
      "  outcome: OUTCOME_OK\n",
      "  output: \"The sum of the first 14 odd prime numbers is: 326\\n\"\n",
      "}\n",
      "\n",
      "-----\n",
      "text: \"Therefore, the sum of the first 14 odd prime numbers is 326.\\n\"\n",
      "\n",
      "-----\n"
     ]
    }
   ],
   "source": [
    "for part in response.candidates[0].content.parts:\n",
    "  print(part)\n",
    "  print(\"-----\")"
   ]
  },
  {
   "cell_type": "markdown",
   "id": "b853d545",
   "metadata": {
    "id": "1gUX8QzCj4d5",
    "papermill": {
     "duration": 0.012657,
     "end_time": "2024-11-21T07:47:37.979772",
     "exception": false,
     "start_time": "2024-11-21T07:47:37.967115",
     "status": "completed"
    },
    "tags": []
   },
   "source": [
    "### Explaining code\n",
    "\n",
    "The Gemini family of models can explain code to you too.\n",
    "\n",
    "<table align=left>\n",
    "  <td>\n",
    "    <a target=\"_blank\" href=\"https://aistudio.google.com/prompts/1N7LGzWzCYieyOf_7bAG4plrmkpDNmUyb\"><img src=\"https://ai.google.dev/site-assets/images/marketing/home/icon-ais.png\" style=\"height: 24px\" height=24/> Open in AI Studio</a>\n",
    "  </td>\n",
    "</table>"
   ]
  },
  {
   "cell_type": "code",
   "execution_count": 29,
   "id": "c02d4461",
   "metadata": {
    "execution": {
     "iopub.execute_input": "2024-11-21T07:47:38.006995Z",
     "iopub.status.busy": "2024-11-21T07:47:38.006616Z",
     "iopub.status.idle": "2024-11-21T07:47:40.997574Z",
     "shell.execute_reply": "2024-11-21T07:47:40.996417Z"
    },
    "id": "7_jPMMoxkIEb",
    "papermill": {
     "duration": 3.007151,
     "end_time": "2024-11-21T07:47:40.999753",
     "exception": false,
     "start_time": "2024-11-21T07:47:37.992602",
     "status": "completed"
    },
    "tags": []
   },
   "outputs": [
    {
     "data": {
      "text/markdown": [
       "This file is a bash script that enhances your shell prompt to display information about your current Git repository.  Think of it as a Git status indicator built directly into your terminal prompt.\n",
       "\n",
       "Here's a breakdown of its purpose and why you'd use it:\n",
       "\n",
       "**What it does:**\n",
       "\n",
       "The script adds information to your shell prompt, such as:\n",
       "\n",
       "* **Current Git branch:**  Clearly shows which branch you're working on.\n",
       "* **Ahead/Behind indicators:** Indicates if your local branch is ahead of or behind the remote branch.\n",
       "* **Uncommitted changes:**  Shows if you have uncommitted changes, staged changes, or conflicts.\n",
       "* **Customizable appearance:** Allows you to customize the colors, symbols, and overall look of the prompt to match your preferences. It supports various themes.\n",
       "* **Remote repository information:** Optionally, shows information about the remote repository (if configured).\n",
       "\n",
       "\n",
       "**Why you'd use it:**\n",
       "\n",
       "* **Improved workflow:** Provides at-a-glance information about your Git repository, saving you from having to run `git status` manually every time you want to check your repository's state.\n",
       "* **Contextual awareness:** Keeps you constantly aware of your branch, uncommitted changes, and the state of your local repository relative to the remote.\n",
       "* **Efficiency:** Reduces the number of commands you need to run to keep track of your Git work.\n",
       "* **Customization:** Offers extensive customization options to tailor the prompt to your liking and integrate it seamlessly with your existing shell setup.\n",
       "\n",
       "\n",
       "In essence, this script is a highly configurable tool to improve your Git workflow by embedding key Git status information directly into your shell prompt.\n"
      ],
      "text/plain": [
       "<IPython.core.display.Markdown object>"
      ]
     },
     "execution_count": 29,
     "metadata": {},
     "output_type": "execute_result"
    }
   ],
   "source": [
    "file_contents = !curl https://raw.githubusercontent.com/magicmonty/bash-git-prompt/refs/heads/master/gitprompt.sh\n",
    "\n",
    "explain_prompt = f\"\"\"\n",
    "Please explain what this file does at a very high level. What is it, and why would I use it?\n",
    "\n",
    "```\n",
    "{file_contents}\n",
    "```\n",
    "\"\"\"\n",
    "\n",
    "model = genai.GenerativeModel('gemini-1.5-flash-latest')\n",
    "\n",
    "response = model.generate_content(explain_prompt, request_options=retry_policy)\n",
    "Markdown(response.text)"
   ]
  },
  {
   "cell_type": "markdown",
   "id": "d45531dc",
   "metadata": {
    "id": "2a8266d97ce5",
    "papermill": {
     "duration": 0.012658,
     "end_time": "2024-11-21T07:47:41.026149",
     "exception": false,
     "start_time": "2024-11-21T07:47:41.013491",
     "status": "completed"
    },
    "tags": []
   },
   "source": [
    "## Learn more\n",
    "\n",
    "To learn more about prompting in depth:\n",
    "\n",
    "* Check out the whitepaper issued with today's content,\n",
    "* Try out the apps listed at the top of this notebook ([TextFX](https://textfx.withgoogle.com/), [SQL Talk](https://sql-talk-r5gdynozbq-uc.a.run.app/) and [NotebookLM](https://notebooklm.google/)),\n",
    "* Read the [Introduction to Prompting](https://ai.google.dev/gemini-api/docs/prompting-intro) from the Gemini API docs,\n",
    "* Explore the Gemini API's [prompt gallery](https://ai.google.dev/gemini-api/prompts) and try them out in AI Studio,\n",
    "* Check out the Gemini API cookbook for [inspirational examples](https://github.com/google-gemini/cookbook/blob/main/examples/) and [educational quickstarts](https://github.com/google-gemini/cookbook/blob/main/quickstarts/).\n",
    "\n",
    "And please share anything exciting you have tried in the Discord!"
   ]
  }
 ],
 "metadata": {
  "colab": {
   "name": "day-1-prompting.ipynb",
   "toc_visible": true
  },
  "kaggle": {
   "accelerator": "none",
   "dataSources": [],
   "dockerImageVersionId": 30786,
   "isGpuEnabled": false,
   "isInternetEnabled": true,
   "language": "python",
   "sourceType": "notebook"
  },
  "kernelspec": {
   "display_name": "Python 3",
   "language": "python",
   "name": "python3"
  },
  "language_info": {
   "codemirror_mode": {
    "name": "ipython",
    "version": 3
   },
   "file_extension": ".py",
   "mimetype": "text/x-python",
   "name": "python",
   "nbconvert_exporter": "python",
   "pygments_lexer": "ipython3",
   "version": "3.10.14"
  },
  "papermill": {
   "default_parameters": {},
   "duration": 71.691656,
   "end_time": "2024-11-21T07:47:41.660668",
   "environment_variables": {},
   "exception": null,
   "input_path": "__notebook__.ipynb",
   "output_path": "__notebook__.ipynb",
   "parameters": {},
   "start_time": "2024-11-21T07:46:29.969012",
   "version": "2.6.0"
  }
 },
 "nbformat": 4,
 "nbformat_minor": 5
}
